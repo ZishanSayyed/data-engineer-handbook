{
 "cells": [
  {
   "cell_type": "code",
   "execution_count": 1,
   "id": "93116226-60c8-416d-bb70-36f4da0d8c56",
   "metadata": {},
   "outputs": [],
   "source": [
    "from pyspark.sql import SparkSession\n",
    "from pyspark.sql.functions import expr, col"
   ]
  },
  {
   "cell_type": "code",
   "execution_count": 17,
   "id": "5f62e628-a017-4ab9-8d4e-d9f136b6c3bf",
   "metadata": {},
   "outputs": [
    {
     "name": "stdout",
     "output_type": "stream",
     "text": [
      "['user_id', 'device_id', 'referrer', 'host', 'url', 'event_time', 'event_date']\n"
     ]
    }
   ],
   "source": [
    "# Create a SparkSession\n",
    "spark = SparkSession.builder.appName(\"Jupyter\").getOrCreate()\n",
    "\n",
    "# Read the events CSV file and create a new column 'event_date'\n",
    "events = spark.read.option(\"header\", \"true\").csv(\"/home/iceberg/data/events.csv\").withColumn(\"event_date\", expr(\"DATE_TRUNC('day', event_time)\"))\n",
    "print(events.columns)"
   ]
  },
  {
   "cell_type": "code",
   "execution_count": 18,
   "id": "e9ce888b-fb36-4c3f-9e6e-b03ab261d597",
   "metadata": {},
   "outputs": [
    {
     "data": {
      "text/plain": [
       "['device_id', 'browser_type', 'os_type', 'device_type']"
      ]
     },
     "execution_count": 18,
     "metadata": {},
     "output_type": "execute_result"
    }
   ],
   "source": [
    "# Read the devices CSV file\n",
    "devices = spark.read.option(\"header\", \"true\").csv(\"/home/iceberg/data/devices.csv\") #devices.csv\n",
    "devices.columns"
   ]
  },
  {
   "cell_type": "code",
   "execution_count": 19,
   "id": "85ec12b1-856c-4655-a01a-d11872438ca4",
   "metadata": {},
   "outputs": [
    {
     "data": {
      "text/plain": [
       "['device_id',\n",
       " 'user_id',\n",
       " 'referrer',\n",
       " 'host',\n",
       " 'url',\n",
       " 'event_time',\n",
       " 'event_date',\n",
       " 'browser_type',\n",
       " 'os_type',\n",
       " 'device_type']"
      ]
     },
     "execution_count": 19,
     "metadata": {},
     "output_type": "execute_result"
    }
   ],
   "source": [
    "# Join the events and devices DataFrames\n",
    "joined_df = events.join(devices, on=\"device_id\", how=\"left\")\n",
    "joined_df.columns"
   ]
  },
  {
   "cell_type": "code",
   "execution_count": 20,
   "id": "234565fc-23b8-4a71-a6bf-c8f1902ea581",
   "metadata": {},
   "outputs": [
    {
     "name": "stdout",
     "output_type": "stream",
     "text": [
      "+----------+--------+--------------+---------+-------------+--------------------+--------------------+-------------------+\n",
      "|       url|referrer|browser_family|os_family|device_family|                host|          event_time|         event_date|\n",
      "+----------+--------+--------------+---------+-------------+--------------------+--------------------+-------------------+\n",
      "|         /|    NULL|         Other|    Other|        Other| www.zachwilson.tech|2021-03-08 17:27:...|2021-03-08 00:00:00|\n",
      "|         /|    NULL|         Other|    Other|        Other|    www.eczachly.com|2021-05-10 11:26:...|2021-05-10 00:00:00|\n",
      "|         /|    NULL|         Other|    Other|        Other|admin.zachwilson....|2021-02-17 16:19:...|2021-02-17 00:00:00|\n",
      "|         /|    NULL|         Other|    Other|        Other| www.zachwilson.tech|2021-09-24 15:53:...|2021-09-24 00:00:00|\n",
      "|         /|    NULL|         Other|    Other|        Other| www.zachwilson.tech|2021-09-26 16:03:...|2021-09-26 00:00:00|\n",
      "|         /|    NULL|         Other|    Other|        Other|admin.zachwilson....|2021-02-21 16:08:...|2021-02-21 00:00:00|\n",
      "|         /|    NULL|         Other|    Other|        Other|admin.zachwilson....|2021-09-28 17:23:...|2021-09-28 00:00:00|\n",
      "|         /|    NULL|         Other|    Other|        Other|    www.eczachly.com|2021-09-29 01:22:...|2021-09-29 00:00:00|\n",
      "|         /|    NULL|         Other|    Other|        Other|admin.zachwilson....|2021-01-24 03:15:...|2021-01-24 00:00:00|\n",
      "|         /|    NULL|         Other|    Other|        Other|    www.eczachly.com|2021-01-25 00:03:...|2021-01-25 00:00:00|\n",
      "|/.git/HEAD|    NULL|          curl|    Other|        Other|admin.zachwilson....|2021-02-22 01:36:...|2021-02-22 00:00:00|\n",
      "|         /|    NULL|          curl|    Other|        Other|    www.eczachly.com|2021-02-22 02:25:...|2021-02-22 00:00:00|\n",
      "|         /|    NULL|         Other|    Other|        Other| www.zachwilson.tech|2021-01-30 20:46:...|2021-01-30 00:00:00|\n",
      "|         /|    NULL|         Other|    Other|        Other|    www.eczachly.com|2021-02-04 23:49:...|2021-02-04 00:00:00|\n",
      "|         /|    NULL|          curl|    Other|        Other| www.zachwilson.tech|2021-02-22 02:50:...|2021-02-22 00:00:00|\n",
      "|/.git/HEAD|    NULL|          curl|    Other|        Other|admin.zachwilson....|2021-02-22 23:51:...|2021-02-22 00:00:00|\n",
      "|         /|    NULL|          curl|    Other|        Other|    www.eczachly.com|2021-02-23 00:17:...|2021-02-23 00:00:00|\n",
      "|         /|    NULL|         Other|    Other|        Other|    www.eczachly.com|2022-12-28 01:38:...|2022-12-28 00:00:00|\n",
      "|         /|    NULL|         Other|    Other|        Other| www.zachwilson.tech|2022-12-28 05:23:...|2022-12-28 00:00:00|\n",
      "|         /|    NULL|         Other|    Other|        Other| www.zachwilson.tech|2022-12-28 16:45:...|2022-12-28 00:00:00|\n",
      "+----------+--------+--------------+---------+-------------+--------------------+--------------------+-------------------+\n",
      "only showing top 20 rows\n",
      "\n"
     ]
    }
   ],
   "source": [
    "# Rename columns using select and cast 'event_time' correctly\n",
    "df = joined_df.select(\n",
    "    \"url\",\n",
    "    \"referrer\",\n",
    "    col(\"browser_type\").alias(\"browser_family\"),\n",
    "    col(\"os_type\").alias(\"os_family\"),\n",
    "    col(\"device_type\").alias(\"device_family\"),\n",
    "    \"host\",\n",
    "    \"event_time\",\n",
    "    \"event_date\"\n",
    ")\n",
    "\n",
    "# Show the result\n",
    "df.show()"
   ]
  },
  {
   "cell_type": "code",
   "execution_count": 23,
   "id": "0eb85224-26fd-4410-ab4d-82c0243f98e5",
   "metadata": {},
   "outputs": [
    {
     "name": "stderr",
     "output_type": "stream",
     "text": [
      "[Stage 44:>                                                         (0 + 2) / 2]\r"
     ]
    },
    {
     "name": "stdout",
     "output_type": "stream",
     "text": [
      "+--------------------+--------------------+--------------+---------+------------------+--------------------+--------------------+-------------------+\n",
      "|                 url|            referrer|browser_family|os_family|     device_family|                host|          event_time|         event_date|\n",
      "+--------------------+--------------------+--------------+---------+------------------+--------------------+--------------------+-------------------+\n",
      "|                   /|                NULL|         Other|    Other|             Other|admin.zachwilson....|2021-01-07 09:21:...|2021-01-07 00:00:00|\n",
      "|                   /|                NULL|         Other|    Other|             Other|    www.eczachly.com|2021-01-07 18:45:...|2021-01-07 00:00:00|\n",
      "|                   /|                NULL|         Other|    Other|             Other|    www.eczachly.com|2021-01-07 21:57:...|2021-01-07 00:00:00|\n",
      "|                   /|                NULL|      PetalBot|  Android|Generic Smartphone|    www.eczachly.com|2021-01-07 02:58:...|2021-01-07 00:00:00|\n",
      "|                   /|                NULL|      PetalBot|    Other|            Spider|    www.eczachly.com|2021-01-07 04:17:...|2021-01-07 00:00:00|\n",
      "|/blog/what-exactl...|                NULL|      PetalBot|  Android|Generic Smartphone|    www.eczachly.com|2021-01-07 10:03:...|2021-01-07 00:00:00|\n",
      "|                   /|                NULL|      PetalBot|    Other|            Spider|    www.eczachly.com|2021-01-07 23:07:...|2021-01-07 00:00:00|\n",
      "|            /contact|                NULL|     AhrefsBot|    Other|            Spider| www.zachwilson.tech|2021-01-07 04:57:...|2021-01-07 00:00:00|\n",
      "|                   /|                NULL|     AhrefsBot|    Other|            Spider| www.zachwilson.tech|2021-01-07 19:56:...|2021-01-07 00:00:00|\n",
      "|               /blog|                NULL|     AhrefsBot|    Other|            Spider| www.zachwilson.tech|2021-01-07 19:56:...|2021-01-07 00:00:00|\n",
      "|            /contact|https://www.zachw...|        Chrome|  Windows|             Other| www.zachwilson.tech|2021-01-07 00:19:...|2021-01-07 00:00:00|\n",
      "|     /api/v1/contact|https://www.zachw...|        Chrome|  Windows|             Other| www.zachwilson.tech|2021-01-07 00:19:...|2021-01-07 00:00:00|\n",
      "|            /contact|https://www.zachw...|        Chrome|  Windows|             Other| www.zachwilson.tech|2021-01-07 00:19:...|2021-01-07 00:00:00|\n",
      "|            /contact|https://www.zachw...|        Chrome|  Windows|             Other| www.zachwilson.tech|2021-01-07 01:57:...|2021-01-07 00:00:00|\n",
      "|     /api/v1/contact|https://www.zachw...|        Chrome|  Windows|             Other| www.zachwilson.tech|2021-01-07 01:57:...|2021-01-07 00:00:00|\n",
      "|            /contact|https://www.zachw...|        Chrome|  Windows|             Other| www.zachwilson.tech|2021-01-07 01:57:...|2021-01-07 00:00:00|\n",
      "|               /blog|                NULL|        Chrome|  Windows|             Other| www.zachwilson.tech|2021-01-07 09:57:...|2021-01-07 00:00:00|\n",
      "|                   /|https://www.zachw...|        Chrome|  Windows|             Other| www.zachwilson.tech|2021-01-07 10:12:...|2021-01-07 00:00:00|\n",
      "|            /contact|https://www.zachw...|        Chrome|  Windows|             Other| www.zachwilson.tech|2021-01-07 10:12:...|2021-01-07 00:00:00|\n",
      "|     /api/v1/contact|https://www.zachw...|        Chrome|  Windows|             Other| www.zachwilson.tech|2021-01-07 10:13:...|2021-01-07 00:00:00|\n",
      "+--------------------+--------------------+--------------+---------+------------------+--------------------+--------------------+-------------------+\n",
      "only showing top 20 rows\n",
      "\n",
      "== Physical Plan ==\n",
      "AdaptiveSparkPlan isFinalPlan=false\n",
      "+- Project [url#575, referrer#573, browser_family#628, os_family#629, device_family#630, host#574, cast(event_time#576 as timestamp) AS event_time#732, event_date#583]\n",
      "   +- Sort [event_date#583 ASC NULLS FIRST, host#574 ASC NULLS FIRST, browser_family#628 ASC NULLS FIRST], false, 0\n",
      "      +- Exchange hashpartitioning(event_date#583, 10), REPARTITION_BY_NUM, [plan_id=1379]\n",
      "         +- Project [url#575, referrer#573, browser_type#610 AS browser_family#628, os_type#611 AS os_family#629, device_type#612 AS device_family#630, host#574, event_time#576, event_date#583]\n",
      "            +- BroadcastHashJoin [device_id#572], [device_id#609], LeftOuter, BuildRight, false\n",
      "               :- Project [device_id#572, referrer#573, host#574, url#575, event_time#576, date_trunc(day, cast(event_time#576 as timestamp), Some(Etc/UTC)) AS event_date#583]\n",
      "               :  +- FileScan csv [device_id#572,referrer#573,host#574,url#575,event_time#576] Batched: false, DataFilters: [], Format: CSV, Location: InMemoryFileIndex(1 paths)[file:/home/iceberg/data/events.csv], PartitionFilters: [], PushedFilters: [], ReadSchema: struct<device_id:string,referrer:string,host:string,url:string,event_time:string>\n",
      "               +- BroadcastExchange HashedRelationBroadcastMode(List(input[0, string, false]),false), [plan_id=1376]\n",
      "                  +- Filter isnotnull(device_id#609)\n",
      "                     +- FileScan csv [device_id#609,browser_type#610,os_type#611,device_type#612] Batched: false, DataFilters: [isnotnull(device_id#609)], Format: CSV, Location: InMemoryFileIndex(1 paths)[file:/home/iceberg/data/devices.csv], PartitionFilters: [], PushedFilters: [IsNotNull(device_id)], ReadSchema: struct<device_id:string,browser_type:string,os_type:string,device_type:string>\n",
      "\n",
      "\n"
     ]
    },
    {
     "name": "stderr",
     "output_type": "stream",
     "text": [
      "                                                                                \r"
     ]
    }
   ],
   "source": [
    "#repartitioning the data into 10 part by  'event_date\" column where sorting data in each partition before joining with \"event_date\",'host \n",
    "sorted = df.repartition(10, col(\"event_date\")) \\\n",
    "         .sortWithinPartitions(col(\"event_date\"), col(\"host\"), col(\"browser_family\")) \\\n",
    "        .withColumn(\"event_time\", col(\"event_time\").cast(\"timestamp\")) \\\n",
    "\n",
    "sorted.show()\n",
    "sorted.explain()"
   ]
  },
  {
   "cell_type": "code",
   "execution_count": 5,
   "id": "073a23d6-6e7d-4748-ad4f-38ce96647ca7",
   "metadata": {},
   "outputs": [
    {
     "data": {
      "text/html": [
       "<table>\n",
       "    <thead>\n",
       "        <tr>\n",
       "        </tr>\n",
       "    </thead>\n",
       "    <tbody>\n",
       "    </tbody>\n",
       "</table>"
      ],
      "text/plain": [
       "++\n",
       "||\n",
       "++\n",
       "++"
      ]
     },
     "execution_count": 5,
     "metadata": {},
     "output_type": "execute_result"
    }
   ],
   "source": [
    "%%sql\n",
    "\n",
    "CREATE DATABASE IF NOT EXISTS bootcamp"
   ]
  },
  {
   "cell_type": "code",
   "execution_count": 6,
   "id": "2cadf07c-d422-4f59-851c-f7121e9e1373",
   "metadata": {},
   "outputs": [
    {
     "data": {
      "text/html": [
       "<table>\n",
       "    <thead>\n",
       "        <tr>\n",
       "        </tr>\n",
       "    </thead>\n",
       "    <tbody>\n",
       "    </tbody>\n",
       "</table>"
      ],
      "text/plain": [
       "++\n",
       "||\n",
       "++\n",
       "++"
      ]
     },
     "execution_count": 6,
     "metadata": {},
     "output_type": "execute_result"
    }
   ],
   "source": [
    "%%sql\n",
    "\n",
    "DROP TABLE IF EXISTS bootcamp.eventsdevices"
   ]
  },
  {
   "cell_type": "code",
   "execution_count": 7,
   "id": "4dd8901c-b22f-468f-aad5-25193f6b5d56",
   "metadata": {},
   "outputs": [
    {
     "data": {
      "text/html": [
       "<table>\n",
       "    <thead>\n",
       "        <tr>\n",
       "        </tr>\n",
       "    </thead>\n",
       "    <tbody>\n",
       "    </tbody>\n",
       "</table>"
      ],
      "text/plain": [
       "++\n",
       "||\n",
       "++\n",
       "++"
      ]
     },
     "execution_count": 7,
     "metadata": {},
     "output_type": "execute_result"
    }
   ],
   "source": [
    "%%sql\n",
    "\n",
    "CREATE TABLE IF NOT EXISTS bootcamp.eventsdevices (\n",
    "    url STRING,\n",
    "    referrer STRING,\n",
    "    browser_family STRING,\n",
    "    os_family STRING,\n",
    "    device_family STRING,\n",
    "    host STRING,\n",
    "    event_time TIMESTAMP,\n",
    "    event_date DATE\n",
    ")\n",
    "USING iceberg\n",
    "PARTITIONED BY (years(event_date));\n"
   ]
  },
  {
   "cell_type": "code",
   "execution_count": 8,
   "id": "eb54022c-25f5-489d-9ba4-96ec35121318",
   "metadata": {},
   "outputs": [
    {
     "name": "stderr",
     "output_type": "stream",
     "text": [
      "                                                                                \r"
     ]
    }
   ],
   "source": [
    "# DataFrame with data to be inserted\n",
    "sorted.write.format(\"iceberg\").mode(\"append\").saveAsTable(\"bootcamp.eventsdevices\")"
   ]
  },
  {
   "cell_type": "code",
   "execution_count": 9,
   "id": "25b3742a-9bc4-4825-82bc-2cbd4b13efe0",
   "metadata": {},
   "outputs": [
    {
     "data": {
      "text/html": [
       "<table>\n",
       "    <thead>\n",
       "        <tr>\n",
       "            <th>url</th>\n",
       "            <th>referrer</th>\n",
       "            <th>browser_family</th>\n",
       "            <th>os_family</th>\n",
       "            <th>device_family</th>\n",
       "            <th>host</th>\n",
       "            <th>event_time</th>\n",
       "            <th>event_date</th>\n",
       "        </tr>\n",
       "    </thead>\n",
       "    <tbody>\n",
       "        <tr>\n",
       "            <td>/</td>\n",
       "            <td>None</td>\n",
       "            <td>Android</td>\n",
       "            <td>Android</td>\n",
       "            <td>Samsung SM-N900T</td>\n",
       "            <td>admin.zachwilson.tech</td>\n",
       "            <td>2023-01-01 17:14:00.071000</td>\n",
       "            <td>2023-01-01</td>\n",
       "        </tr>\n",
       "        <tr>\n",
       "            <td>/</td>\n",
       "            <td>None</td>\n",
       "            <td>Android</td>\n",
       "            <td>Android</td>\n",
       "            <td>ZTE BA520</td>\n",
       "            <td>admin.zachwilson.tech</td>\n",
       "            <td>2023-01-01 17:16:47.060000</td>\n",
       "            <td>2023-01-01</td>\n",
       "        </tr>\n",
       "        <tr>\n",
       "            <td>/</td>\n",
       "            <td>None</td>\n",
       "            <td>Android</td>\n",
       "            <td>Android</td>\n",
       "            <td>ZTE BA520</td>\n",
       "            <td>admin.zachwilson.tech</td>\n",
       "            <td>2023-01-01 17:16:52.225000</td>\n",
       "            <td>2023-01-01</td>\n",
       "        </tr>\n",
       "        <tr>\n",
       "            <td>/</td>\n",
       "            <td>None</td>\n",
       "            <td>Android</td>\n",
       "            <td>Android</td>\n",
       "            <td>ZTE BA520</td>\n",
       "            <td>admin.zachwilson.tech</td>\n",
       "            <td>2023-01-01 17:38:40.362000</td>\n",
       "            <td>2023-01-01</td>\n",
       "        </tr>\n",
       "        <tr>\n",
       "            <td>/</td>\n",
       "            <td>http://admin.zachwilson.tech</td>\n",
       "            <td>Chrome</td>\n",
       "            <td>Mac OS X</td>\n",
       "            <td>Other</td>\n",
       "            <td>admin.zachwilson.tech</td>\n",
       "            <td>2023-01-01 00:22:11.594000</td>\n",
       "            <td>2023-01-01</td>\n",
       "        </tr>\n",
       "    </tbody>\n",
       "</table>"
      ],
      "text/plain": [
       "+-----+------------------------------+----------------+-----------+------------------+-----------------------+----------------------------+------------+\n",
       "| url |                     referrer | browser_family | os_family |    device_family |                  host |                 event_time | event_date |\n",
       "+-----+------------------------------+----------------+-----------+------------------+-----------------------+----------------------------+------------+\n",
       "|   / |                         None |        Android |   Android | Samsung SM-N900T | admin.zachwilson.tech | 2023-01-01 17:14:00.071000 | 2023-01-01 |\n",
       "|   / |                         None |        Android |   Android |        ZTE BA520 | admin.zachwilson.tech | 2023-01-01 17:16:47.060000 | 2023-01-01 |\n",
       "|   / |                         None |        Android |   Android |        ZTE BA520 | admin.zachwilson.tech | 2023-01-01 17:16:52.225000 | 2023-01-01 |\n",
       "|   / |                         None |        Android |   Android |        ZTE BA520 | admin.zachwilson.tech | 2023-01-01 17:38:40.362000 | 2023-01-01 |\n",
       "|   / | http://admin.zachwilson.tech |         Chrome |  Mac OS X |            Other | admin.zachwilson.tech | 2023-01-01 00:22:11.594000 | 2023-01-01 |\n",
       "+-----+------------------------------+----------------+-----------+------------------+-----------------------+----------------------------+------------+"
      ]
     },
     "execution_count": 9,
     "metadata": {},
     "output_type": "execute_result"
    }
   ],
   "source": [
    "%%sql\n",
    "select * from bootcamp.eventsdevices limit 5;"
   ]
  },
  {
   "cell_type": "code",
   "execution_count": 10,
   "id": "d93c7e69-4030-47a7-a892-c2b76920143f",
   "metadata": {},
   "outputs": [
    {
     "data": {
      "text/html": [
       "<table>\n",
       "    <thead>\n",
       "        <tr>\n",
       "        </tr>\n",
       "    </thead>\n",
       "    <tbody>\n",
       "    </tbody>\n",
       "</table>"
      ],
      "text/plain": [
       "++\n",
       "||\n",
       "++\n",
       "++"
      ]
     },
     "execution_count": 10,
     "metadata": {},
     "output_type": "execute_result"
    }
   ],
   "source": [
    "%%sql\n",
    "\n",
    "\n",
    "CREATE TABLE IF NOT EXISTS bootcamp.events_sorted (\n",
    "    url STRING,\n",
    "    referrer STRING,\n",
    "    browser_family STRING,\n",
    "    os_family STRING,\n",
    "    device_family STRING,\n",
    "    host STRING,\n",
    "    event_time TIMESTAMP,\n",
    "    event_date DATE\n",
    ")\n",
    "USING iceberg;"
   ]
  },
  {
   "cell_type": "code",
   "execution_count": 11,
   "id": "aad1c361-0c71-4d3b-b0bd-22076a81add8",
   "metadata": {},
   "outputs": [
    {
     "data": {
      "text/html": [
       "<table>\n",
       "    <thead>\n",
       "        <tr>\n",
       "        </tr>\n",
       "    </thead>\n",
       "    <tbody>\n",
       "    </tbody>\n",
       "</table>"
      ],
      "text/plain": [
       "++\n",
       "||\n",
       "++\n",
       "++"
      ]
     },
     "execution_count": 11,
     "metadata": {},
     "output_type": "execute_result"
    }
   ],
   "source": [
    "%%sql\n",
    "\n",
    "\n",
    "CREATE TABLE IF NOT EXISTS bootcamp.events_unsorted (\n",
    "    url STRING,\n",
    "    referrer STRING,\n",
    "    browser_family STRING,\n",
    "    os_family STRING,\n",
    "    device_family STRING,\n",
    "    host STRING,\n",
    "    event_time TIMESTAMP,\n",
    "    event_date DATE\n",
    ")\n",
    "USING iceberg;"
   ]
  },
  {
   "cell_type": "code",
   "execution_count": 12,
   "id": "02349447-f28d-4b78-ba9b-223137fb1128",
   "metadata": {},
   "outputs": [
    {
     "name": "stderr",
     "output_type": "stream",
     "text": [
      "                                                                                \r"
     ]
    }
   ],
   "source": [
    "\n",
    "start_df = df.repartition(4, col(\"event_date\")).withColumn(\"event_time\", col(\"event_time\").cast(\"timestamp\")) \\\n",
    "    \n",
    "\n",
    "first_sort_df = start_df.sortWithinPartitions(col(\"event_date\"), col(\"browser_family\"), col(\"host\"))\n",
    "\n",
    "sorted = df.repartition(10, col(\"event_date\")) \\\n",
    "        .sortWithinPartitions(col(\"event_date\")) \\\n",
    "        .withColumn(\"event_time\", col(\"event_time\").cast(\"timestamp\")) \\\n",
    "\n",
    "start_df.write.mode(\"overwrite\").saveAsTable(\"bootcamp.events_unsorted\")\n",
    "first_sort_df.write.mode(\"overwrite\").saveAsTable(\"bootcamp.events_sorted\")"
   ]
  },
  {
   "cell_type": "code",
   "execution_count": 13,
   "id": "4c5c72d5-a867-49d7-a494-e4cdf33312e7",
   "metadata": {},
   "outputs": [
    {
     "data": {
      "text/html": [
       "<table>\n",
       "    <thead>\n",
       "        <tr>\n",
       "            <th>content</th>\n",
       "            <th>file_path</th>\n",
       "            <th>file_format</th>\n",
       "            <th>spec_id</th>\n",
       "            <th>record_count</th>\n",
       "            <th>file_size_in_bytes</th>\n",
       "            <th>column_sizes</th>\n",
       "            <th>value_counts</th>\n",
       "            <th>null_value_counts</th>\n",
       "            <th>nan_value_counts</th>\n",
       "            <th>lower_bounds</th>\n",
       "            <th>upper_bounds</th>\n",
       "            <th>key_metadata</th>\n",
       "            <th>split_offsets</th>\n",
       "            <th>equality_ids</th>\n",
       "            <th>sort_order_id</th>\n",
       "            <th>readable_metrics</th>\n",
       "        </tr>\n",
       "    </thead>\n",
       "    <tbody>\n",
       "        <tr>\n",
       "            <td>0</td>\n",
       "            <td>s3://warehouse/bootcamp/events_sorted/data/00000-34-7adc2411-023d-42f0-bf54-0e24a44e5fb0-0-00001.parquet</td>\n",
       "            <td>PARQUET</td>\n",
       "            <td>0</td>\n",
       "            <td>89391</td>\n",
       "            <td>643178</td>\n",
       "            <td>{1: 107448, 2: 61005, 3: 11437, 4: 12908, 5: 10692, 6: 7365, 7: 426434, 8: 2274}</td>\n",
       "            <td>{1: 89391, 2: 89391, 3: 89391, 4: 89391, 5: 89391, 6: 89391, 7: 89391, 8: 89391}</td>\n",
       "            <td>{1: 0, 2: 46359, 3: 0, 4: 0, 5: 0, 6: 0, 7: 0, 8: 0}</td>\n",
       "            <td>{}</td>\n",
       "            <td>{1: bytearray(b&#x27;/&#x27;), 2: bytearray(b&#x27;52.20.78.240&#x27;), 3: bytearray(b&#x27;%E3%82%A6%E3%82%&#x27;), 4: bytearray(b&#x27;Android&#x27;), 5: bytearray(b&#x27;17MB150WB&#x27;), 6: bytearray(b&#x27;aashish.techcrea&#x27;), 7: bytearray(b&#x27; \\xba\\xe7\\xb8\\xa8\\xb8\\x05\\x00&#x27;), 8: bytearray(b&#x27;\\x00\\xa0&amp;\\xb4\\xa8\\xb8\\x05\\x00&#x27;)}</td>\n",
       "            <td>{1: bytearray(b&#x27;/zzageqnf.php?Fp&#x27;), 2: bytearray(b&#x27;zachwilson.tech&#x27;), 3: bytearray(b&#x27;webprosbot&#x27;), 4: bytearray(b&#x27;iOS&#x27;), 5: bytearray(b&#x27;vivo $2&#x27;), 6: bytearray(b&#x27;zachwilson.techd&#x27;), 7: bytearray(b&#x27;\\xe8\\xb0\\x1b\\x8ec\\x03\\x06\\x00&#x27;), 8: bytearray(b&#x27;\\x00\\xe0dqO\\x03\\x06\\x00&#x27;)}</td>\n",
       "            <td>None</td>\n",
       "            <td>[4]</td>\n",
       "            <td>None</td>\n",
       "            <td>0</td>\n",
       "            <td>Row(browser_family=Row(column_size=11437, value_count=89391, null_value_count=0, nan_value_count=None, lower_bound=&#x27;%E3%82%A6%E3%82%&#x27;, upper_bound=&#x27;webprosbot&#x27;), device_family=Row(column_size=10692, value_count=89391, null_value_count=0, nan_value_count=None, lower_bound=&#x27;17MB150WB&#x27;, upper_bound=&#x27;vivo $2&#x27;), event_date=Row(column_size=2274, value_count=89391, null_value_count=0, nan_value_count=None, lower_bound=datetime.datetime(2021, 1, 12, 0, 0), upper_bound=datetime.datetime(2023, 8, 20, 0, 0)), event_time=Row(column_size=426434, value_count=89391, null_value_count=0, nan_value_count=None, lower_bound=datetime.datetime(2021, 1, 12, 0, 1, 19, 764000), upper_bound=datetime.datetime(2023, 8, 20, 23, 59, 41, 89000)), host=Row(column_size=7365, value_count=89391, null_value_count=0, nan_value_count=None, lower_bound=&#x27;aashish.techcrea&#x27;, upper_bound=&#x27;zachwilson.techd&#x27;), os_family=Row(column_size=12908, value_count=89391, null_value_count=0, nan_value_count=None, lower_bound=&#x27;Android&#x27;, upper_bound=&#x27;iOS&#x27;), referrer=Row(column_size=61005, value_count=89391, null_value_count=46359, nan_value_count=None, lower_bound=&#x27;52.20.78.240&#x27;, upper_bound=&#x27;zachwilson.tech&#x27;), url=Row(column_size=107448, value_count=89391, null_value_count=0, nan_value_count=None, lower_bound=&#x27;/&#x27;, upper_bound=&#x27;/zzageqnf.php?Fp&#x27;))</td>\n",
       "        </tr>\n",
       "        <tr>\n",
       "            <td>0</td>\n",
       "            <td>s3://warehouse/bootcamp/events_sorted/data/00001-35-7adc2411-023d-42f0-bf54-0e24a44e5fb0-0-00001.parquet</td>\n",
       "            <td>PARQUET</td>\n",
       "            <td>0</td>\n",
       "            <td>99232</td>\n",
       "            <td>740373</td>\n",
       "            <td>{1: 142161, 2: 67344, 3: 11896, 4: 16525, 5: 11505, 6: 9100, 7: 475847, 8: 2355}</td>\n",
       "            <td>{1: 99232, 2: 99232, 3: 99232, 4: 99232, 5: 99232, 6: 99232, 7: 99232, 8: 99232}</td>\n",
       "            <td>{1: 0, 2: 49299, 3: 0, 4: 0, 5: 0, 6: 0, 7: 0, 8: 0}</td>\n",
       "            <td>{}</td>\n",
       "            <td>{1: bytearray(b&#x27;&quot;/?&quot;&quot;&lt;?=print(93&#x27;), 2: bytearray(b&#x27;&quot;https://www.goo&#x27;), 3: bytearray(b&#x27;) Bot&#x27;), 4: bytearray(b&#x27;Android&#x27;), 5: bytearray(b&#x27;13 Pro Max&#x27;), 6: bytearray(b&#x27;abhishekanand.te&#x27;), 7: bytearray(b&#x27;(\\x83\\xb2EX\\xb8\\x05\\x00&#x27;), 8: bytearray(b&#x27;\\x00 \\xc9&lt;X\\xb8\\x05\\x00&#x27;)}</td>\n",
       "            <td>{1: bytearray(b&#x27;/zz.php&#x27;), 2: bytearray(b&#x27;zachwilson.tech&#x27;), 3: bytearray(b&#x27;webprosbot&#x27;), 4: bytearray(b&#x27;iOS&#x27;), 5: bytearray(b&#x27;vivo $2&#x27;), 6: bytearray(b&#x27;zsavi524.techcrf&#x27;), 7: bytearray(b&#x27;\\x88\\xb8\\x07P;\\x03\\x06\\x00&#x27;), 8: bytearray(b&quot;\\x00 \\xb65\\&#x27;\\x03\\x06\\x00&quot;)}</td>\n",
       "            <td>None</td>\n",
       "            <td>[4]</td>\n",
       "            <td>None</td>\n",
       "            <td>0</td>\n",
       "            <td>Row(browser_family=Row(column_size=11896, value_count=99232, null_value_count=0, nan_value_count=None, lower_bound=&#x27;) Bot&#x27;, upper_bound=&#x27;webprosbot&#x27;), device_family=Row(column_size=11505, value_count=99232, null_value_count=0, nan_value_count=None, lower_bound=&#x27;13 Pro Max&#x27;, upper_bound=&#x27;vivo $2&#x27;), event_date=Row(column_size=2355, value_count=99232, null_value_count=0, nan_value_count=None, lower_bound=datetime.datetime(2021, 1, 8, 0, 0), upper_bound=datetime.datetime(2023, 8, 18, 0, 0)), event_time=Row(column_size=475847, value_count=99232, null_value_count=0, nan_value_count=None, lower_bound=datetime.datetime(2021, 1, 8, 0, 2, 29, 513000), upper_bound=datetime.datetime(2023, 8, 18, 23, 59, 0, 901000)), host=Row(column_size=9100, value_count=99232, null_value_count=0, nan_value_count=None, lower_bound=&#x27;abhishekanand.te&#x27;, upper_bound=&#x27;zsavi524.techcrf&#x27;), os_family=Row(column_size=16525, value_count=99232, null_value_count=0, nan_value_count=None, lower_bound=&#x27;Android&#x27;, upper_bound=&#x27;iOS&#x27;), referrer=Row(column_size=67344, value_count=99232, null_value_count=49299, nan_value_count=None, lower_bound=&#x27;&quot;https://www.goo&#x27;, upper_bound=&#x27;zachwilson.tech&#x27;), url=Row(column_size=142161, value_count=99232, null_value_count=0, nan_value_count=None, lower_bound=&#x27;&quot;/?&quot;&quot;&lt;?=print(93&#x27;, upper_bound=&#x27;/zz.php&#x27;))</td>\n",
       "        </tr>\n",
       "        <tr>\n",
       "            <td>0</td>\n",
       "            <td>s3://warehouse/bootcamp/events_sorted/data/00002-36-7adc2411-023d-42f0-bf54-0e24a44e5fb0-0-00001.parquet</td>\n",
       "            <td>PARQUET</td>\n",
       "            <td>0</td>\n",
       "            <td>93956</td>\n",
       "            <td>929896</td>\n",
       "            <td>{1: 345957, 2: 86593, 3: 10948, 4: 12876, 5: 12120, 6: 8573, 7: 447228, 8: 2019}</td>\n",
       "            <td>{1: 93956, 2: 93956, 3: 93956, 4: 93956, 5: 93956, 6: 93956, 7: 93956, 8: 93956}</td>\n",
       "            <td>{1: 0, 2: 48227, 3: 1, 4: 1, 5: 1, 6: 0, 7: 0, 8: 0}</td>\n",
       "            <td>{}</td>\n",
       "            <td>{1: bytearray(b&#x27;&quot;/?&quot;&quot;&lt;?=print(93&#x27;), 2: bytearray(b&#x27;&quot;https://www.goo&#x27;), 3: bytearray(b&#x27;) Bot&#x27;), 4: bytearray(b&#x27;Android&#x27;), 5: bytearray(b&#x27;ALP-AL00&#x27;), 6: bytearray(b&#x27;ablumhardt.techc&#x27;), 7: bytearray(b&#x27;\\x18\\xe8_\\xb2\\xf3\\xb7\\x05\\x00&#x27;), 8: bytearray(b&#x27;\\x00@\\x94\\xa7\\xf3\\xb7\\x05\\x00&#x27;)}</td>\n",
       "            <td>{1: bytearray(b&#x27;/zz/address.php@&#x27;), 2: bytearray(b&#x27;zachwilson.tech&#x27;), 3: bytearray(b&#x27;webprosbot&#x27;), 4: bytearray(b&#x27;webOS&#x27;), 5: bytearray(b&#x27;vivo $2&#x27;), 6: bytearray(b&#x27;zzz.techcreator/&#x27;), 7: bytearray(b&#x27;HE\\xdbM\\xb3\\x03\\x06\\x00&#x27;), 8: bytearray(b&#x27;\\x00`\\xc2\\xe8\\x9f\\x03\\x06\\x00&#x27;)}</td>\n",
       "            <td>None</td>\n",
       "            <td>[4]</td>\n",
       "            <td>None</td>\n",
       "            <td>0</td>\n",
       "            <td>Row(browser_family=Row(column_size=10948, value_count=93956, null_value_count=1, nan_value_count=None, lower_bound=&#x27;) Bot&#x27;, upper_bound=&#x27;webprosbot&#x27;), device_family=Row(column_size=12120, value_count=93956, null_value_count=1, nan_value_count=None, lower_bound=&#x27;ALP-AL00&#x27;, upper_bound=&#x27;vivo $2&#x27;), event_date=Row(column_size=2019, value_count=93956, null_value_count=0, nan_value_count=None, lower_bound=datetime.datetime(2021, 1, 3, 0, 0), upper_bound=datetime.datetime(2023, 8, 24, 0, 0)), event_time=Row(column_size=447228, value_count=93956, null_value_count=0, nan_value_count=None, lower_bound=datetime.datetime(2021, 1, 3, 0, 3, 1, 119000), upper_bound=datetime.datetime(2023, 8, 24, 23, 8, 20, 509000)), host=Row(column_size=8573, value_count=93956, null_value_count=0, nan_value_count=None, lower_bound=&#x27;ablumhardt.techc&#x27;, upper_bound=&#x27;zzz.techcreator/&#x27;), os_family=Row(column_size=12876, value_count=93956, null_value_count=1, nan_value_count=None, lower_bound=&#x27;Android&#x27;, upper_bound=&#x27;webOS&#x27;), referrer=Row(column_size=86593, value_count=93956, null_value_count=48227, nan_value_count=None, lower_bound=&#x27;&quot;https://www.goo&#x27;, upper_bound=&#x27;zachwilson.tech&#x27;), url=Row(column_size=345957, value_count=93956, null_value_count=0, nan_value_count=None, lower_bound=&#x27;&quot;/?&quot;&quot;&lt;?=print(93&#x27;, upper_bound=&#x27;/zz/address.php@&#x27;))</td>\n",
       "        </tr>\n",
       "        <tr>\n",
       "            <td>0</td>\n",
       "            <td>s3://warehouse/bootcamp/events_sorted/data/00003-37-7adc2411-023d-42f0-bf54-0e24a44e5fb0-0-00001.parquet</td>\n",
       "            <td>PARQUET</td>\n",
       "            <td>0</td>\n",
       "            <td>122235</td>\n",
       "            <td>987801</td>\n",
       "            <td>{1: 284335, 2: 87432, 3: 11501, 4: 16872, 5: 13540, 6: 9324, 7: 558656, 8: 2154}</td>\n",
       "            <td>{1: 122235, 2: 122235, 3: 122235, 4: 122235, 5: 122235, 6: 122235, 7: 122235, 8: 122235}</td>\n",
       "            <td>{1: 0, 2: 53009, 3: 0, 4: 0, 5: 0, 6: 0, 7: 0, 8: 0}</td>\n",
       "            <td>{}</td>\n",
       "            <td>{1: bytearray(b&#x27;/&#x27;), 2: bytearray(b&#x27;3.220.57.224&#x27;), 3: bytearray(b&#x27;) Bot&#x27;), 4: bytearray(b&#x27;Android&#x27;), 5: bytearray(b&#x27;$2&#x27;), 6: bytearray(b&#x27;accc.techcreator&#x27;), 7: bytearray(b&#x27;@n.\\xbd\\xdf\\xb7\\x05\\x00&#x27;), 8: bytearray(b&#x27;\\x00\\xe0\\xbc\\x89\\xdf\\xb7\\x05\\x00&#x27;)}</td>\n",
       "            <td>{1: bytearray(b&#x27;/zz.php&#x27;), 2: bytearray(b&#x27;zachwilson.tech&#x27;), 3: bytearray(b&#x27;webprosbot&#x27;), 4: bytearray(b&#x27;iOS&#x27;), 5: bytearray(b&#x27;vivo $2&#x27;), 6: bytearray(b&#x27;zachwilson.techd&#x27;), 7: bytearray(b&#x27;\\xd8\\xaf\\x9a\\xe8\\x9f\\x03\\x06\\x00&#x27;), 8: bytearray(b&#x27;\\x00\\x00\\xeb\\xca\\x8b\\x03\\x06\\x00&#x27;)}</td>\n",
       "            <td>None</td>\n",
       "            <td>[4]</td>\n",
       "            <td>None</td>\n",
       "            <td>0</td>\n",
       "            <td>Row(browser_family=Row(column_size=11501, value_count=122235, null_value_count=0, nan_value_count=None, lower_bound=&#x27;) Bot&#x27;, upper_bound=&#x27;webprosbot&#x27;), device_family=Row(column_size=13540, value_count=122235, null_value_count=0, nan_value_count=None, lower_bound=&#x27;$2&#x27;, upper_bound=&#x27;vivo $2&#x27;), event_date=Row(column_size=2154, value_count=122235, null_value_count=0, nan_value_count=None, lower_bound=datetime.datetime(2021, 1, 2, 0, 0), upper_bound=datetime.datetime(2023, 8, 23, 0, 0)), event_time=Row(column_size=558656, value_count=122235, null_value_count=0, nan_value_count=None, lower_bound=datetime.datetime(2021, 1, 2, 0, 14, 23, 80000), upper_bound=datetime.datetime(2023, 8, 23, 23, 59, 57, 399000)), host=Row(column_size=9324, value_count=122235, null_value_count=0, nan_value_count=None, lower_bound=&#x27;accc.techcreator&#x27;, upper_bound=&#x27;zachwilson.techd&#x27;), os_family=Row(column_size=16872, value_count=122235, null_value_count=0, nan_value_count=None, lower_bound=&#x27;Android&#x27;, upper_bound=&#x27;iOS&#x27;), referrer=Row(column_size=87432, value_count=122235, null_value_count=53009, nan_value_count=None, lower_bound=&#x27;3.220.57.224&#x27;, upper_bound=&#x27;zachwilson.tech&#x27;), url=Row(column_size=284335, value_count=122235, null_value_count=0, nan_value_count=None, lower_bound=&#x27;/&#x27;, upper_bound=&#x27;/zz.php&#x27;))</td>\n",
       "        </tr>\n",
       "    </tbody>\n",
       "</table>"
      ],
      "text/plain": [
       "+---------+----------------------------------------------------------------------------------------------------------+-------------+---------+--------------+--------------------+----------------------------------------------------------------------------------+------------------------------------------------------------------------------------------+------------------------------------------------------+------------------+----------------------------------------------------------------------------------------------------------------------------------------------------------------------------------------------------------------------------------------------------------------------------------------+------------------------------------------------------------------------------------------------------------------------------------------------------------------------------------------------------------------------------------------------------------------------------------+--------------+---------------+--------------+---------------+-----------------------------------------------------------------------------------------------------------------------------------------------------------------------------------------------------------------------------------------------------------------------------------------------------------------------------------------------------------------------------------------------------------------------------------------------------------------------------------------------------------------------------------------------------------------------------------------------------------------------------------------------------------------------------------------------------------------------------------------------------------------------------------------------------------------------------------------------------------------------------------------------------------------------------------------------------------------------------------------------------------------------------------------------------------------------------------------------------------------------------------------------------------------------------------------------------------------------------------------------------------------------------------------------------------------------------------------------------------------------+\n",
       "| content |                                                                                                file_path | file_format | spec_id | record_count | file_size_in_bytes |                                                                     column_sizes |                                                                             value_counts |                                    null_value_counts | nan_value_counts |                                                                                                                                                                                                                                                                           lower_bounds |                                                                                                                                                                                                                                                                       upper_bounds | key_metadata | split_offsets | equality_ids | sort_order_id |                                                                                                                                                                                                                                                                                                                                                                                                                                                                                                                                                                                                                                                                                                                                                                                                                                                                                                                                                                                                                                                                                                                                                                                                                                                                                                                                                      readable_metrics |\n",
       "+---------+----------------------------------------------------------------------------------------------------------+-------------+---------+--------------+--------------------+----------------------------------------------------------------------------------+------------------------------------------------------------------------------------------+------------------------------------------------------+------------------+----------------------------------------------------------------------------------------------------------------------------------------------------------------------------------------------------------------------------------------------------------------------------------------+------------------------------------------------------------------------------------------------------------------------------------------------------------------------------------------------------------------------------------------------------------------------------------+--------------+---------------+--------------+---------------+-----------------------------------------------------------------------------------------------------------------------------------------------------------------------------------------------------------------------------------------------------------------------------------------------------------------------------------------------------------------------------------------------------------------------------------------------------------------------------------------------------------------------------------------------------------------------------------------------------------------------------------------------------------------------------------------------------------------------------------------------------------------------------------------------------------------------------------------------------------------------------------------------------------------------------------------------------------------------------------------------------------------------------------------------------------------------------------------------------------------------------------------------------------------------------------------------------------------------------------------------------------------------------------------------------------------------------------------------------------------------+\n",
       "|       0 | s3://warehouse/bootcamp/events_sorted/data/00000-34-7adc2411-023d-42f0-bf54-0e24a44e5fb0-0-00001.parquet |     PARQUET |       0 |        89391 |             643178 | {1: 107448, 2: 61005, 3: 11437, 4: 12908, 5: 10692, 6: 7365, 7: 426434, 8: 2274} |         {1: 89391, 2: 89391, 3: 89391, 4: 89391, 5: 89391, 6: 89391, 7: 89391, 8: 89391} | {1: 0, 2: 46359, 3: 0, 4: 0, 5: 0, 6: 0, 7: 0, 8: 0} |               {} |        {1: bytearray(b'/'), 2: bytearray(b'52.20.78.240'), 3: bytearray(b'%E3%82%A6%E3%82%'), 4: bytearray(b'Android'), 5: bytearray(b'17MB150WB'), 6: bytearray(b'aashish.techcrea'), 7: bytearray(b' \\xba\\xe7\\xb8\\xa8\\xb8\\x05\\x00'), 8: bytearray(b'\\x00\\xa0&\\xb4\\xa8\\xb8\\x05\\x00')} |    {1: bytearray(b'/zzageqnf.php?Fp'), 2: bytearray(b'zachwilson.tech'), 3: bytearray(b'webprosbot'), 4: bytearray(b'iOS'), 5: bytearray(b'vivo $2'), 6: bytearray(b'zachwilson.techd'), 7: bytearray(b'\\xe8\\xb0\\x1b\\x8ec\\x03\\x06\\x00'), 8: bytearray(b'\\x00\\xe0dqO\\x03\\x06\\x00')} |         None |           [4] |         None |             0 |       Row(browser_family=Row(column_size=11437, value_count=89391, null_value_count=0, nan_value_count=None, lower_bound='%E3%82%A6%E3%82%', upper_bound='webprosbot'), device_family=Row(column_size=10692, value_count=89391, null_value_count=0, nan_value_count=None, lower_bound='17MB150WB', upper_bound='vivo $2'), event_date=Row(column_size=2274, value_count=89391, null_value_count=0, nan_value_count=None, lower_bound=datetime.datetime(2021, 1, 12, 0, 0), upper_bound=datetime.datetime(2023, 8, 20, 0, 0)), event_time=Row(column_size=426434, value_count=89391, null_value_count=0, nan_value_count=None, lower_bound=datetime.datetime(2021, 1, 12, 0, 1, 19, 764000), upper_bound=datetime.datetime(2023, 8, 20, 23, 59, 41, 89000)), host=Row(column_size=7365, value_count=89391, null_value_count=0, nan_value_count=None, lower_bound='aashish.techcrea', upper_bound='zachwilson.techd'), os_family=Row(column_size=12908, value_count=89391, null_value_count=0, nan_value_count=None, lower_bound='Android', upper_bound='iOS'), referrer=Row(column_size=61005, value_count=89391, null_value_count=46359, nan_value_count=None, lower_bound='52.20.78.240', upper_bound='zachwilson.tech'), url=Row(column_size=107448, value_count=89391, null_value_count=0, nan_value_count=None, lower_bound='/', upper_bound='/zzageqnf.php?Fp')) |\n",
       "|       0 | s3://warehouse/bootcamp/events_sorted/data/00001-35-7adc2411-023d-42f0-bf54-0e24a44e5fb0-0-00001.parquet |     PARQUET |       0 |        99232 |             740373 | {1: 142161, 2: 67344, 3: 11896, 4: 16525, 5: 11505, 6: 9100, 7: 475847, 8: 2355} |         {1: 99232, 2: 99232, 3: 99232, 4: 99232, 5: 99232, 6: 99232, 7: 99232, 8: 99232} | {1: 0, 2: 49299, 3: 0, 4: 0, 5: 0, 6: 0, 7: 0, 8: 0} |               {} |           {1: bytearray(b'\"/?\"\"<?=print(93'), 2: bytearray(b'\"https://www.goo'), 3: bytearray(b') Bot'), 4: bytearray(b'Android'), 5: bytearray(b'13 Pro Max'), 6: bytearray(b'abhishekanand.te'), 7: bytearray(b'(\\x83\\xb2EX\\xb8\\x05\\x00'), 8: bytearray(b'\\x00 \\xc9<X\\xb8\\x05\\x00')} |               {1: bytearray(b'/zz.php'), 2: bytearray(b'zachwilson.tech'), 3: bytearray(b'webprosbot'), 4: bytearray(b'iOS'), 5: bytearray(b'vivo $2'), 6: bytearray(b'zsavi524.techcrf'), 7: bytearray(b'\\x88\\xb8\\x07P;\\x03\\x06\\x00'), 8: bytearray(b\"\\x00 \\xb65\\'\\x03\\x06\\x00\")} |         None |           [4] |         None |             0 |         Row(browser_family=Row(column_size=11896, value_count=99232, null_value_count=0, nan_value_count=None, lower_bound=') Bot', upper_bound='webprosbot'), device_family=Row(column_size=11505, value_count=99232, null_value_count=0, nan_value_count=None, lower_bound='13 Pro Max', upper_bound='vivo $2'), event_date=Row(column_size=2355, value_count=99232, null_value_count=0, nan_value_count=None, lower_bound=datetime.datetime(2021, 1, 8, 0, 0), upper_bound=datetime.datetime(2023, 8, 18, 0, 0)), event_time=Row(column_size=475847, value_count=99232, null_value_count=0, nan_value_count=None, lower_bound=datetime.datetime(2021, 1, 8, 0, 2, 29, 513000), upper_bound=datetime.datetime(2023, 8, 18, 23, 59, 0, 901000)), host=Row(column_size=9100, value_count=99232, null_value_count=0, nan_value_count=None, lower_bound='abhishekanand.te', upper_bound='zsavi524.techcrf'), os_family=Row(column_size=16525, value_count=99232, null_value_count=0, nan_value_count=None, lower_bound='Android', upper_bound='iOS'), referrer=Row(column_size=67344, value_count=99232, null_value_count=49299, nan_value_count=None, lower_bound='\"https://www.goo', upper_bound='zachwilson.tech'), url=Row(column_size=142161, value_count=99232, null_value_count=0, nan_value_count=None, lower_bound='\"/?\"\"<?=print(93', upper_bound='/zz.php')) |\n",
       "|       0 | s3://warehouse/bootcamp/events_sorted/data/00002-36-7adc2411-023d-42f0-bf54-0e24a44e5fb0-0-00001.parquet |     PARQUET |       0 |        93956 |             929896 | {1: 345957, 2: 86593, 3: 10948, 4: 12876, 5: 12120, 6: 8573, 7: 447228, 8: 2019} |         {1: 93956, 2: 93956, 3: 93956, 4: 93956, 5: 93956, 6: 93956, 7: 93956, 8: 93956} | {1: 0, 2: 48227, 3: 1, 4: 1, 5: 1, 6: 0, 7: 0, 8: 0} |               {} | {1: bytearray(b'\"/?\"\"<?=print(93'), 2: bytearray(b'\"https://www.goo'), 3: bytearray(b') Bot'), 4: bytearray(b'Android'), 5: bytearray(b'ALP-AL00'), 6: bytearray(b'ablumhardt.techc'), 7: bytearray(b'\\x18\\xe8_\\xb2\\xf3\\xb7\\x05\\x00'), 8: bytearray(b'\\x00@\\x94\\xa7\\xf3\\xb7\\x05\\x00')} |  {1: bytearray(b'/zz/address.php@'), 2: bytearray(b'zachwilson.tech'), 3: bytearray(b'webprosbot'), 4: bytearray(b'webOS'), 5: bytearray(b'vivo $2'), 6: bytearray(b'zzz.techcreator/'), 7: bytearray(b'HE\\xdbM\\xb3\\x03\\x06\\x00'), 8: bytearray(b'\\x00`\\xc2\\xe8\\x9f\\x03\\x06\\x00')} |         None |           [4] |         None |             0 | Row(browser_family=Row(column_size=10948, value_count=93956, null_value_count=1, nan_value_count=None, lower_bound=') Bot', upper_bound='webprosbot'), device_family=Row(column_size=12120, value_count=93956, null_value_count=1, nan_value_count=None, lower_bound='ALP-AL00', upper_bound='vivo $2'), event_date=Row(column_size=2019, value_count=93956, null_value_count=0, nan_value_count=None, lower_bound=datetime.datetime(2021, 1, 3, 0, 0), upper_bound=datetime.datetime(2023, 8, 24, 0, 0)), event_time=Row(column_size=447228, value_count=93956, null_value_count=0, nan_value_count=None, lower_bound=datetime.datetime(2021, 1, 3, 0, 3, 1, 119000), upper_bound=datetime.datetime(2023, 8, 24, 23, 8, 20, 509000)), host=Row(column_size=8573, value_count=93956, null_value_count=0, nan_value_count=None, lower_bound='ablumhardt.techc', upper_bound='zzz.techcreator/'), os_family=Row(column_size=12876, value_count=93956, null_value_count=1, nan_value_count=None, lower_bound='Android', upper_bound='webOS'), referrer=Row(column_size=86593, value_count=93956, null_value_count=48227, nan_value_count=None, lower_bound='\"https://www.goo', upper_bound='zachwilson.tech'), url=Row(column_size=345957, value_count=93956, null_value_count=0, nan_value_count=None, lower_bound='\"/?\"\"<?=print(93', upper_bound='/zz/address.php@')) |\n",
       "|       0 | s3://warehouse/bootcamp/events_sorted/data/00003-37-7adc2411-023d-42f0-bf54-0e24a44e5fb0-0-00001.parquet |     PARQUET |       0 |       122235 |             987801 | {1: 284335, 2: 87432, 3: 11501, 4: 16872, 5: 13540, 6: 9324, 7: 558656, 8: 2154} | {1: 122235, 2: 122235, 3: 122235, 4: 122235, 5: 122235, 6: 122235, 7: 122235, 8: 122235} | {1: 0, 2: 53009, 3: 0, 4: 0, 5: 0, 6: 0, 7: 0, 8: 0} |               {} |                             {1: bytearray(b'/'), 2: bytearray(b'3.220.57.224'), 3: bytearray(b') Bot'), 4: bytearray(b'Android'), 5: bytearray(b'$2'), 6: bytearray(b'accc.techcreator'), 7: bytearray(b'@n.\\xbd\\xdf\\xb7\\x05\\x00'), 8: bytearray(b'\\x00\\xe0\\xbc\\x89\\xdf\\xb7\\x05\\x00')} | {1: bytearray(b'/zz.php'), 2: bytearray(b'zachwilson.tech'), 3: bytearray(b'webprosbot'), 4: bytearray(b'iOS'), 5: bytearray(b'vivo $2'), 6: bytearray(b'zachwilson.techd'), 7: bytearray(b'\\xd8\\xaf\\x9a\\xe8\\x9f\\x03\\x06\\x00'), 8: bytearray(b'\\x00\\x00\\xeb\\xca\\x8b\\x03\\x06\\x00')} |         None |           [4] |         None |             0 |                           Row(browser_family=Row(column_size=11501, value_count=122235, null_value_count=0, nan_value_count=None, lower_bound=') Bot', upper_bound='webprosbot'), device_family=Row(column_size=13540, value_count=122235, null_value_count=0, nan_value_count=None, lower_bound='$2', upper_bound='vivo $2'), event_date=Row(column_size=2154, value_count=122235, null_value_count=0, nan_value_count=None, lower_bound=datetime.datetime(2021, 1, 2, 0, 0), upper_bound=datetime.datetime(2023, 8, 23, 0, 0)), event_time=Row(column_size=558656, value_count=122235, null_value_count=0, nan_value_count=None, lower_bound=datetime.datetime(2021, 1, 2, 0, 14, 23, 80000), upper_bound=datetime.datetime(2023, 8, 23, 23, 59, 57, 399000)), host=Row(column_size=9324, value_count=122235, null_value_count=0, nan_value_count=None, lower_bound='accc.techcreator', upper_bound='zachwilson.techd'), os_family=Row(column_size=16872, value_count=122235, null_value_count=0, nan_value_count=None, lower_bound='Android', upper_bound='iOS'), referrer=Row(column_size=87432, value_count=122235, null_value_count=53009, nan_value_count=None, lower_bound='3.220.57.224', upper_bound='zachwilson.tech'), url=Row(column_size=284335, value_count=122235, null_value_count=0, nan_value_count=None, lower_bound='/', upper_bound='/zz.php')) |\n",
       "+---------+----------------------------------------------------------------------------------------------------------+-------------+---------+--------------+--------------------+----------------------------------------------------------------------------------+------------------------------------------------------------------------------------------+------------------------------------------------------+------------------+----------------------------------------------------------------------------------------------------------------------------------------------------------------------------------------------------------------------------------------------------------------------------------------+------------------------------------------------------------------------------------------------------------------------------------------------------------------------------------------------------------------------------------------------------------------------------------+--------------+---------------+--------------+---------------+-----------------------------------------------------------------------------------------------------------------------------------------------------------------------------------------------------------------------------------------------------------------------------------------------------------------------------------------------------------------------------------------------------------------------------------------------------------------------------------------------------------------------------------------------------------------------------------------------------------------------------------------------------------------------------------------------------------------------------------------------------------------------------------------------------------------------------------------------------------------------------------------------------------------------------------------------------------------------------------------------------------------------------------------------------------------------------------------------------------------------------------------------------------------------------------------------------------------------------------------------------------------------------------------------------------------------------------------------------------------------+"
      ]
     },
     "execution_count": 13,
     "metadata": {},
     "output_type": "execute_result"
    }
   ],
   "source": [
    "%%sql\n",
    "SELECT *\n",
    "FROM demo.bootcamp.events_sorted.files"
   ]
  },
  {
   "cell_type": "code",
   "execution_count": 14,
   "id": "ce0cda7c-6e93-4556-8b52-e750ecfb5540",
   "metadata": {},
   "outputs": [
    {
     "data": {
      "text/html": [
       "<table>\n",
       "    <thead>\n",
       "        <tr>\n",
       "            <th>size</th>\n",
       "            <th>num_files</th>\n",
       "            <th>sorted</th>\n",
       "        </tr>\n",
       "    </thead>\n",
       "    <tbody>\n",
       "        <tr>\n",
       "            <td>3301248</td>\n",
       "            <td>4</td>\n",
       "            <td>sorted</td>\n",
       "        </tr>\n",
       "        <tr>\n",
       "            <td>3589113</td>\n",
       "            <td>4</td>\n",
       "            <td>unsorted</td>\n",
       "        </tr>\n",
       "    </tbody>\n",
       "</table>"
      ],
      "text/plain": [
       "+---------+-----------+----------+\n",
       "|    size | num_files |   sorted |\n",
       "+---------+-----------+----------+\n",
       "| 3301248 |         4 |   sorted |\n",
       "| 3589113 |         4 | unsorted |\n",
       "+---------+-----------+----------+"
      ]
     },
     "execution_count": 14,
     "metadata": {},
     "output_type": "execute_result"
    }
   ],
   "source": [
    "%%sql\n",
    "\n",
    "SELECT SUM(file_size_in_bytes) as size, COUNT(1) as num_files, 'sorted' \n",
    "FROM demo.bootcamp.events_sorted.files\n",
    "\n",
    "UNION ALL\n",
    "SELECT SUM(file_size_in_bytes) as size, COUNT(1) as num_files, 'unsorted' \n",
    "FROM demo.bootcamp.events_unsorted.files\n"
   ]
  },
  {
   "cell_type": "code",
   "execution_count": 15,
   "id": "230a54f4-a3b9-4440-bf0c-f40e1c48268f",
   "metadata": {},
   "outputs": [
    {
     "data": {
      "text/html": [
       "<table>\n",
       "    <thead>\n",
       "        <tr>\n",
       "            <th>size</th>\n",
       "            <th>num_files</th>\n",
       "        </tr>\n",
       "    </thead>\n",
       "    <tbody>\n",
       "        <tr>\n",
       "            <td>3269744</td>\n",
       "            <td>3</td>\n",
       "        </tr>\n",
       "    </tbody>\n",
       "</table>"
      ],
      "text/plain": [
       "+---------+-----------+\n",
       "|    size | num_files |\n",
       "+---------+-----------+\n",
       "| 3269744 |         3 |\n",
       "+---------+-----------+"
      ]
     },
     "execution_count": 15,
     "metadata": {},
     "output_type": "execute_result"
    }
   ],
   "source": [
    "%%sql\n",
    "SELECT SUM(file_size_in_bytes) as size, COUNT(1) as num_files FROM demo.bootcamp.eventsdevices.files;"
   ]
  },
  {
   "cell_type": "code",
   "execution_count": null,
   "id": "82f38c5a-da05-4f0f-96b5-bb6b1d1de75a",
   "metadata": {},
   "outputs": [],
   "source": []
  }
 ],
 "metadata": {
  "kernelspec": {
   "display_name": "Python 3 (ipykernel)",
   "language": "python",
   "name": "python3"
  },
  "language_info": {
   "codemirror_mode": {
    "name": "ipython",
    "version": 3
   },
   "file_extension": ".py",
   "mimetype": "text/x-python",
   "name": "python",
   "nbconvert_exporter": "python",
   "pygments_lexer": "ipython3",
   "version": "3.9.18"
  }
 },
 "nbformat": 4,
 "nbformat_minor": 5
}
